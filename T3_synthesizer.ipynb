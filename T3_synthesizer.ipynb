{
 "cells": [
  {
   "cell_type": "markdown",
   "id": "collective-melissa",
   "metadata": {},
   "source": [
    "# DDSP synthesizer\n",
    "\n",
    "Evaluate the generation quality of the DDSP synthesizer using the GMM from T3.2 and predefined pitch and loudness profiles.\n",
    "\n",
    "####  Expected outcome of T3: \n",
    "A fully generative model based on DDSP which can generate musical sounds without any input audio signal"
   ]
  },
  {
   "cell_type": "markdown",
   "id": "interested-scott",
   "metadata": {},
   "source": [
    "## Predefine pitch and loudness profiles"
   ]
  },
  {
   "cell_type": "markdown",
   "id": "temporal-greek",
   "metadata": {},
   "source": [
    "Refer to the notebook [showing_models_colab](./showing_models_colab.ipynb)"
   ]
  },
  {
   "cell_type": "code",
   "execution_count": null,
   "id": "indie-birthday",
   "metadata": {},
   "outputs": [],
   "source": []
  },
  {
   "cell_type": "markdown",
   "id": "patent-indonesia",
   "metadata": {},
   "source": [
    "## Synthesize pitch, loudness and z features"
   ]
  },
  {
   "cell_type": "code",
   "execution_count": null,
   "id": "marked-carbon",
   "metadata": {},
   "outputs": [],
   "source": []
  }
 ],
 "metadata": {
  "kernelspec": {
   "display_name": "Python 3",
   "language": "python",
   "name": "python3"
  },
  "language_info": {
   "codemirror_mode": {
    "name": "ipython",
    "version": 3
   },
   "file_extension": ".py",
   "mimetype": "text/x-python",
   "name": "python",
   "nbconvert_exporter": "python",
   "pygments_lexer": "ipython3",
   "version": "3.8.8"
  }
 },
 "nbformat": 4,
 "nbformat_minor": 5
}
