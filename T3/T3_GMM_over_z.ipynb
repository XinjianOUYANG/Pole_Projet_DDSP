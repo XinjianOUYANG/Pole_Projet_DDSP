{
 "cells": [
  {
   "cell_type": "markdown",
   "id": "awful-lawrence",
   "metadata": {},
   "source": [
    "# GMM over z"
   ]
  },
  {
   "cell_type": "markdown",
   "id": "danish-clerk",
   "metadata": {},
   "source": [
    "In this notebook, we **fit a generative model over latent variables “z”** provided by the pre-trained encoder network in Task2, in order to **define a probability distribution over “z”, and then to retrieve a complete generative mechanism and sample new sounds**.\n",
    "\n",
    "We use the package [sklearn.mixture](https://scikit-learn.org/stable/modules/generated/sklearn.mixture.GaussianMixture.html) to help us build a GMM generative model"
   ]
  },
  {
   "cell_type": "code",
   "execution_count": 43,
   "id": "undefined-triangle",
   "metadata": {},
   "outputs": [
    {
     "name": "stdout",
     "output_type": "stream",
     "text": [
      "0.24.1\n"
     ]
    }
   ],
   "source": [
    "import numpy as np\n",
    "import sklearn\n",
    "from sklearn.mixture import GaussianMixture\n",
    "\n",
    "print(sklearn.__version__)"
   ]
  },
  {
   "cell_type": "markdown",
   "id": "convinced-genome",
   "metadata": {},
   "source": [
    "## Import and reshape the z dataset"
   ]
  },
  {
   "cell_type": "markdown",
   "id": "suited-substance",
   "metadata": {},
   "source": [
    "[encoder.py](https://github.com/magenta/ddsp/blob/master/ddsp/training/encoders.py)\n",
    "\n",
    "[decoder.py](https://github.com/magenta/ddsp/blob/master/ddsp/training/decoders.py)"
   ]
  },
  {
   "cell_type": "code",
   "execution_count": 44,
   "id": "sorted-hello",
   "metadata": {},
   "outputs": [
    {
     "name": "stdout",
     "output_type": "stream",
     "text": [
      "(15, 1, 15000, 16)\n"
     ]
    }
   ],
   "source": [
    "load_path = 'z_datasets/z_piano_ae.npy'\n",
    "X = np.load(load_path)\n",
    "print(np.shape(X))"
   ]
  },
  {
   "cell_type": "markdown",
   "id": "prepared-bennett",
   "metadata": {},
   "source": [
    "#### Reshape the dataset as two-dimensional\n",
    "\n",
    "The original dataset is three-dimensional. We reduce its dimensionality to 2 in order to fit the GMM."
   ]
  },
  {
   "cell_type": "code",
   "execution_count": 45,
   "id": "sharing-burning",
   "metadata": {},
   "outputs": [
    {
     "name": "stdout",
     "output_type": "stream",
     "text": [
      "\n",
      " (15000, 16) \n",
      " [[ 0.10215124 -0.20640261  0.99841303 ...  0.49358746 -0.21236257\n",
      "   1.13730264]\n",
      " [ 0.10384198 -0.25821844  1.02379334 ...  0.59112096 -0.22603506\n",
      "   1.13082194]\n",
      " [ 0.10553272 -0.31003425  1.04917359 ...  0.68865448 -0.23970756\n",
      "   1.12434125]\n",
      " ...\n",
      " [-0.88653564  0.83447558  0.76511675 ... -0.63522935  1.07426643\n",
      "   0.28649288]\n",
      " [-0.88653564  0.83447558  0.76511675 ... -0.63522935  1.07426643\n",
      "   0.28649288]\n",
      " [-0.88653564  0.83447558  0.76511675 ... -0.63522935  1.07426643\n",
      "   0.28649288]]\n"
     ]
    }
   ],
   "source": [
    "# reduce dimensionality \n",
    "N, T_step, Z_dim = np.shape(X)[0], np.shape(X)[2], np.shape(X)[3]\n",
    "X_new = np.zeros(shape=(N,T_step, Z_dim))\n",
    "\n",
    "for i in np.arange(N):\n",
    "    X_new[i] = X[i,0]\n",
    "    \n",
    "# print(np.shape(X_new))\n",
    "# #print(X_new)\n",
    "\n",
    "# X_re = np.reshape(X_new,(N*T_step,16))\n",
    "# print('\\n',np.shape(X_re),'\\n',X_re)\n",
    "\n",
    "X_re = X_new[9]\n",
    "\n",
    "print('\\n',np.shape(X_re),'\\n',X_re)"
   ]
  },
  {
   "cell_type": "code",
   "execution_count": 46,
   "id": "fitting-paint",
   "metadata": {},
   "outputs": [],
   "source": [
    "# D = np.reshape(X_re,(N,T_step, Z_dim))\n",
    "# print(X == D)"
   ]
  },
  {
   "cell_type": "markdown",
   "id": "baking-metallic",
   "metadata": {},
   "source": [
    "## Fit the dataset z"
   ]
  },
  {
   "cell_type": "code",
   "execution_count": 47,
   "id": "variable-chick",
   "metadata": {},
   "outputs": [],
   "source": [
    "# fit Z and build a GMM model\n",
    "gm = GaussianMixture(n_components=10).fit(X_re)\n",
    "# attributes of the model\n",
    "\"\"\"\n",
    "weights_: array-like of shape (n_components,)\n",
    "The weights of each mixture components.\n",
    "\n",
    "means_: array-like of shape (n_components, n_features)\n",
    "The mean of each mixture component.\n",
    "\"\"\"\n",
    "\n",
    "means = gm.means_\n",
    "weights = gm.weights_\n",
    "\n",
    "# print('means:',means,'\\n','weights of each component:',weights)"
   ]
  },
  {
   "cell_type": "code",
   "execution_count": 48,
   "id": "characteristic-standing",
   "metadata": {},
   "outputs": [
    {
     "name": "stdout",
     "output_type": "stream",
     "text": [
      "(array([[ 1.16185966, -0.51321173, -0.78256854, ...,  1.21326084,\n",
      "        -0.58313983, -1.72144234],\n",
      "       [-0.37473447, -0.07567025, -0.72217883, ...,  0.27906675,\n",
      "         0.61190112, -2.80223857],\n",
      "       [-0.02265047,  1.15122443, -1.06130024, ..., -1.54751991,\n",
      "        -1.04273422, -0.31195306],\n",
      "       ...,\n",
      "       [ 0.04112289, -2.20234518,  0.02624445, ...,  0.04516296,\n",
      "         0.6904755 , -1.1890663 ],\n",
      "       [-1.11337758, -0.54322914, -0.18840925, ...,  0.37374936,\n",
      "         0.2420288 , -0.82803912],\n",
      "       [-0.25336834, -0.96975594,  0.42648194, ...,  0.81987386,\n",
      "         1.10361125,  0.07625349]]), array([0, 0, 0, ..., 9, 9, 9]))\n",
      "\n",
      " (15000, 16)\n",
      "\n",
      " [[ 1.16185966 -0.51321173 -0.78256854 ...  1.21326084 -0.58313983\n",
      "  -1.72144234]\n",
      " [-0.37473447 -0.07567025 -0.72217883 ...  0.27906675  0.61190112\n",
      "  -2.80223857]\n",
      " [-0.02265047  1.15122443 -1.06130024 ... -1.54751991 -1.04273422\n",
      "  -0.31195306]\n",
      " ...\n",
      " [ 0.04112289 -2.20234518  0.02624445 ...  0.04516296  0.6904755\n",
      "  -1.1890663 ]\n",
      " [-1.11337758 -0.54322914 -0.18840925 ...  0.37374936  0.2420288\n",
      "  -0.82803912]\n",
      " [-0.25336834 -0.96975594  0.42648194 ...  0.81987386  1.10361125\n",
      "   0.07625349]]\n"
     ]
    }
   ],
   "source": [
    "predictions = gm.sample(15000)\n",
    "\n",
    "print(predictions)\n",
    "print('\\n', np.shape(predictions[0]))\n",
    "print('\\n', predictions[0])"
   ]
  },
  {
   "cell_type": "markdown",
   "id": "lesser-scanning",
   "metadata": {},
   "source": [
    "### Save samples"
   ]
  },
  {
   "cell_type": "code",
   "execution_count": 49,
   "id": "contrary-curtis",
   "metadata": {},
   "outputs": [
    {
     "name": "stdout",
     "output_type": "stream",
     "text": [
      "./z_datasets/z_piano_15000_audio_10.npy\n",
      "(15000, 16) \n",
      "\n"
     ]
    }
   ],
   "source": [
    "# save_path = './z_datasets/z_' + 'piano_15000_audio_10' + '.npy'\n",
    "# print(save_path)\n",
    "# np.save(save_path, predictions[0])\n",
    "# print(np.shape(predictions[0]),'\\n')"
   ]
  }
 ],
 "metadata": {
  "kernelspec": {
   "display_name": "Python 3",
   "language": "python",
   "name": "python3"
  },
  "language_info": {
   "codemirror_mode": {
    "name": "ipython",
    "version": 3
   },
   "file_extension": ".py",
   "mimetype": "text/x-python",
   "name": "python",
   "nbconvert_exporter": "python",
   "pygments_lexer": "ipython3",
   "version": "3.8.8"
  }
 },
 "nbformat": 4,
 "nbformat_minor": 5
}
