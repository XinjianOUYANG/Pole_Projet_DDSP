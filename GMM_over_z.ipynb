{
 "cells": [
  {
   "cell_type": "markdown",
   "id": "awful-lawrence",
   "metadata": {},
   "source": [
    "# GMM over z"
   ]
  },
  {
   "cell_type": "markdown",
   "id": "danish-clerk",
   "metadata": {},
   "source": [
    "In this notebook, we **fit a generative model over latent variables “z”** provided by the pre-trained encoder network in Task2, in order to **define a probability distribution over “z”, and then to retrieve a complete generative mechanism and sample new sounds**.\n",
    "\n",
    "We use the package [sklearn GMM](https://scikit-learn.org/stable/modules/generated/sklearn.mixture.GaussianMixture.html) to help us build a GMM generative model"
   ]
  },
  {
   "cell_type": "markdown",
   "id": "supported-passage",
   "metadata": {},
   "source": [
    "<p><b> GMM methods in sklearn GaussianMixture </b></p>\n",
    "\n",
    "<img src=\" https://github.com/XinjianOUYANG/Pole_Projet_DDSP/pictures/GMM_methods.jpg \" alt=\"GMM methods in sklearn\" width=\"800\">"
   ]
  },
  {
   "cell_type": "code",
   "execution_count": 1,
   "id": "undefined-triangle",
   "metadata": {},
   "outputs": [],
   "source": [
    "import numpy as np\n",
    "from sklearn.mixture import GaussianMixture"
   ]
  },
  {
   "cell_type": "code",
   "execution_count": 3,
   "id": "variable-chick",
   "metadata": {},
   "outputs": [
    {
     "name": "stdout",
     "output_type": "stream",
     "text": [
      "[[10.  2.]\n",
      " [ 1.  2.]] [0.5 0.5]\n"
     ]
    },
    {
     "data": {
      "text/plain": [
       "array([1, 0])"
      ]
     },
     "execution_count": 3,
     "metadata": {},
     "output_type": "execute_result"
    }
   ],
   "source": [
    "# The dataset to fit(Z)\n",
    "X = np.array([[1, 2], [1, 4], [1, 0], [10, 2], [10, 4], [10, 0]])\n",
    "# number of components K\n",
    "K = 2\n",
    "\n",
    "# fit Z and build a GMM model\n",
    "gm = GaussianMixture(n_components=K, random_state=0).fit(X)\n",
    "\n",
    "# attributes of the model\n",
    "\"\"\"\n",
    "weights_: array-like of shape (n_components,)\n",
    "The weights of each mixture components.\n",
    "\n",
    "means_: array-like of shape (n_components, n_features)\n",
    "The mean of each mixture component.\n",
    "\"\"\"\n",
    "\n",
    "means = gm.means_\n",
    "weights = gm.weights_\n",
    "\n",
    "print(means,weights)\n",
    "gm.predict([[0, 0], [12, 3]])"
   ]
  }
 ],
 "metadata": {
  "kernelspec": {
   "display_name": "Python 3",
   "language": "python",
   "name": "python3"
  },
  "language_info": {
   "codemirror_mode": {
    "name": "ipython",
    "version": 3
   },
   "file_extension": ".py",
   "mimetype": "text/x-python",
   "name": "python",
   "nbconvert_exporter": "python",
   "pygments_lexer": "ipython3",
   "version": "3.8.8"
  }
 },
 "nbformat": 4,
 "nbformat_minor": 5
}
