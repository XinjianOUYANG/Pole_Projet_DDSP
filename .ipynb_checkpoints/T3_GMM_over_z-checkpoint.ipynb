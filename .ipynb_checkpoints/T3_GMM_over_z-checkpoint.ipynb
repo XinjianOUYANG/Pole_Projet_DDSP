{
 "cells": [
  {
   "cell_type": "markdown",
   "id": "awful-lawrence",
   "metadata": {},
   "source": [
    "# GMM over z"
   ]
  },
  {
   "cell_type": "markdown",
   "id": "danish-clerk",
   "metadata": {},
   "source": [
    "In this notebook, we **fit a generative model over latent variables “z”** provided by the pre-trained encoder network in Task2, in order to **define a probability distribution over “z”, and then to retrieve a complete generative mechanism and sample new sounds**.\n",
    "\n",
    "We use the package [sklearn.mixture](https://scikit-learn.org/stable/modules/generated/sklearn.mixture.GaussianMixture.html) to help us build a GMM generative model"
   ]
  },
  {
   "cell_type": "markdown",
   "id": "supported-passage",
   "metadata": {},
   "source": [
    "<p><b> GMM methods </b></p>\n",
    "\n",
    "<img src=\"pictures/GMM_methods.jpg\" alt=\"GMM methods in sklearn\" width=\"800\">"
   ]
  },
  {
   "cell_type": "code",
   "execution_count": 1,
   "id": "undefined-triangle",
   "metadata": {},
   "outputs": [
    {
     "name": "stdout",
     "output_type": "stream",
     "text": [
      "0.24.1\n"
     ]
    }
   ],
   "source": [
    "import numpy as np\n",
    "import sklearn\n",
    "from sklearn.mixture import GaussianMixture\n",
    "\n",
    "print(sklearn.__version__)"
   ]
  },
  {
   "cell_type": "markdown",
   "id": "convinced-genome",
   "metadata": {},
   "source": [
    "## Import and reshape the z dataset"
   ]
  },
  {
   "cell_type": "markdown",
   "id": "suited-substance",
   "metadata": {},
   "source": [
    "[encoder.py](https://github.com/magenta/ddsp/blob/master/ddsp/training/encoders.py)\n",
    "\n",
    "[decoder.py](https://github.com/magenta/ddsp/blob/master/ddsp/training/decoders.py)"
   ]
  },
  {
   "cell_type": "code",
   "execution_count": 2,
   "id": "sorted-hello",
   "metadata": {},
   "outputs": [
    {
     "name": "stdout",
     "output_type": "stream",
     "text": [
      "(15, 1, 15000, 16)\n"
     ]
    }
   ],
   "source": [
    "load_path = 'z_datasets/z_piano_ae.npy'\n",
    "X = np.load(load_path)\n",
    "print(np.shape(X))"
   ]
  },
  {
   "cell_type": "markdown",
   "id": "prepared-bennett",
   "metadata": {},
   "source": [
    "#### Reshape the dataset as two-dimensional\n",
    "\n",
    "The original dataset is three-dimensional. We reduce its dimensionality to 2 in order to fit the GMM."
   ]
  },
  {
   "cell_type": "code",
   "execution_count": 3,
   "id": "sharing-burning",
   "metadata": {},
   "outputs": [
    {
     "name": "stdout",
     "output_type": "stream",
     "text": [
      "(15, 15000, 16)\n",
      "\n",
      " (225000, 16) \n",
      " [[-0.03763556 -0.207986   -0.04950411 ...  0.08215524 -1.41192687\n",
      "   0.34535056]\n",
      " [-0.00612059 -0.23088677 -0.04997538 ...  0.11514032 -1.46286297\n",
      "   0.34728429]\n",
      " [ 0.02539439 -0.25378755 -0.05044664 ...  0.1481254  -1.51379919\n",
      "   0.34921801]\n",
      " ...\n",
      " [ 0.29531065  1.9499706  -1.02815902 ... -0.57737291  0.40595052\n",
      "   0.21172309]\n",
      " [ 0.29531065  1.9499706  -1.02815902 ... -0.57737291  0.40595052\n",
      "   0.21172309]\n",
      " [ 0.29531065  1.9499706  -1.02815902 ... -0.57737291  0.40595052\n",
      "   0.21172309]]\n"
     ]
    }
   ],
   "source": [
    "# reduce dimensionality \n",
    "N, T_step, Z_dim = np.shape(X)[0], np.shape(X)[2], np.shape(X)[3]\n",
    "X_new = np.zeros(shape=(N,T_step, Z_dim))\n",
    "\n",
    "for i in np.arange(N):\n",
    "    X_new[i] = X[i,0]\n",
    "    \n",
    "print(np.shape(X_new))\n",
    "#print(X_new)\n",
    "\n",
    "X_re = np.reshape(X_new,(N*T_step,16))\n",
    "print('\\n',np.shape(X_re),'\\n',X_re)"
   ]
  },
  {
   "cell_type": "code",
   "execution_count": 4,
   "id": "fitting-paint",
   "metadata": {},
   "outputs": [],
   "source": [
    "# D = np.reshape(X_re,(N,T_step, Z_dim))\n",
    "# print(X == D)"
   ]
  },
  {
   "cell_type": "markdown",
   "id": "baking-metallic",
   "metadata": {},
   "source": [
    "## Fit the dataset z"
   ]
  },
  {
   "cell_type": "code",
   "execution_count": 5,
   "id": "variable-chick",
   "metadata": {},
   "outputs": [
    {
     "name": "stdout",
     "output_type": "stream",
     "text": [
      "means: [[-1.22767301e+00 -1.28812173e-01  1.77424480e-01 -9.25735158e-01\n",
      "   6.77147080e-01 -3.31983194e-01  1.40209803e+00 -6.74201057e-01\n",
      "   5.39708219e-01  5.50122747e-01  8.12741567e-02  5.44950695e-01\n",
      "  -1.13531327e+00  2.45022098e-01 -3.01123957e-01 -9.93759289e-01]\n",
      " [ 7.96448686e-02 -5.64504324e-02  1.56221231e-01 -4.73284887e-02\n",
      "   1.11633514e+00 -3.72630153e-01 -8.27748364e-01  2.31575139e-01\n",
      "   4.74906121e-01  9.19264573e-01 -1.49978262e-01 -2.82553749e-01\n",
      "  -5.80626206e-02 -2.68634055e-01  8.81077120e-01  2.26825757e-02]\n",
      " [ 8.78919302e-01 -5.53427981e-01  2.74115164e-02  2.30283069e-01\n",
      "  -8.30643824e-01  2.82540548e-01  4.27097538e-01  1.74838354e-01\n",
      "   9.35449114e-01  4.31954232e-01 -8.36768799e-01  5.11287448e-01\n",
      "  -5.49325498e-01  9.11457546e-01 -1.13178474e+00 -7.52935361e-01]\n",
      " [ 1.20971817e+00 -8.94982682e-01 -1.03763963e+00  5.24424764e-01\n",
      "  -1.96524315e-01 -1.13555423e-01  3.81952781e-02 -2.14981808e-01\n",
      "  -2.63100764e-01 -6.33543747e-01  2.46291777e-01 -7.55363364e-01\n",
      "  -7.57378302e-01  1.23889876e+00  4.60603375e-01 -7.92683059e-01]\n",
      " [ 1.51052267e-01  4.83420048e-01  4.04394575e-02  4.84136188e-01\n",
      "  -2.77663467e-01 -5.41317564e-02 -8.49910498e-02  4.54611796e-01\n",
      "  -5.42904270e-01  6.38360011e-01  9.03748486e-01  3.55523407e-01\n",
      "   1.37833037e-01 -1.45821364e-01  8.25004410e-01  4.80807428e-01]\n",
      " [ 5.62690619e-01  3.10909069e-01 -3.47299459e-01 -5.61796801e-01\n",
      "   1.02896272e-01 -1.00888459e+00  2.68297849e-01  3.48528501e-01\n",
      "  -5.90755678e-01  5.21652792e-01 -8.90554464e-01 -3.29203551e-01\n",
      "  -7.55283880e-02  7.24254836e-01 -1.15203230e+00 -2.35535221e-01]\n",
      " [-8.43565483e-01  1.63893683e-01  1.29236961e-01  2.73374135e+00\n",
      "   2.16321894e-01  3.59019338e+00  1.74253713e+00 -9.36964153e-02\n",
      "   3.46487737e+00  1.06705658e+00 -2.65073368e-02 -7.60494123e-01\n",
      "  -4.12823234e-01  5.78263917e-03 -2.83122344e+00  5.16840514e-01]\n",
      " [ 9.70766305e-01  8.61457386e-01  1.04467003e-01 -9.31970076e-01\n",
      "   5.85536807e-02 -8.71910361e-01  5.01000004e-01 -1.93313816e+00\n",
      "   9.68477533e-01 -2.31998693e-02  4.37006322e-01 -3.10690974e-01\n",
      "  -4.82470683e-01 -1.30548908e-01 -8.08619549e-02 -8.41628947e-01]\n",
      " [-1.70096906e-01  8.22333869e-04 -3.81020082e-01 -7.25272774e-03\n",
      "   9.95280143e-02  3.49302461e-01 -1.95028129e-01 -1.44608615e-01\n",
      "  -1.52710748e-01 -3.53672988e-01 -1.11384143e-01  2.15176940e-01\n",
      "   1.05801999e-01 -5.71897876e-01  1.19740233e-01  8.30021726e-02]\n",
      " [-5.08550144e-01 -1.61692931e+00  9.98919368e-01  5.93243536e-02\n",
      "   6.24894959e-01 -3.07331568e-01  1.33137387e+00  3.67406675e-01\n",
      "  -7.07914834e-01  3.55940753e-02  1.33218418e+00 -7.95865005e-01\n",
      "  -2.39522696e-01  3.74309428e-01  1.75091138e-01 -6.23357430e-01]] \n",
      " weights of each component: [0.07428433 0.0727254  0.1294401  0.0892633  0.14343904 0.09115843\n",
      " 0.03765891 0.0801716  0.22792198 0.05393692]\n"
     ]
    }
   ],
   "source": [
    "# fit Z and build a GMM model\n",
    "gm = GaussianMixture(n_components=10).fit(X_re)\n",
    "# attributes of the model\n",
    "\"\"\"\n",
    "weights_: array-like of shape (n_components,)\n",
    "The weights of each mixture components.\n",
    "\n",
    "means_: array-like of shape (n_components, n_features)\n",
    "The mean of each mixture component.\n",
    "\"\"\"\n",
    "\n",
    "means = gm.means_\n",
    "weights = gm.weights_\n",
    "\n",
    "print('means:',means,'\\n','weights of each component:',weights)"
   ]
  },
  {
   "cell_type": "code",
   "execution_count": 6,
   "id": "characteristic-standing",
   "metadata": {},
   "outputs": [
    {
     "name": "stdout",
     "output_type": "stream",
     "text": [
      "\n",
      " (1000, 16)\n",
      "\n",
      " [[-1.53039119  0.73450421  0.08220713 ... -0.02114236 -0.39266324\n",
      "  -1.05753607]\n",
      " [-1.90418642 -1.20635352 -0.09904436 ...  0.94369902  0.1354099\n",
      "   0.26751625]\n",
      " [-0.62928271 -1.14141235  0.21972873 ...  1.64428289  0.16504005\n",
      "   0.23592995]\n",
      " ...\n",
      " [-0.38301217 -0.72798212  1.40531473 ...  1.48213132  0.18790059\n",
      "  -2.11798967]\n",
      " [-0.098572   -1.4043831   0.77956941 ...  1.59625837  0.48671803\n",
      "   0.2077207 ]\n",
      " [ 0.72064548 -2.53069686  0.37502832 ...  0.16908954 -1.37669371\n",
      "  -0.55005173]]\n"
     ]
    }
   ],
   "source": [
    "predictions = gm.sample(1000)\n",
    "\n",
    "print('\\n', np.shape(predictions[0]))\n",
    "print('\\n', predictions[0])"
   ]
  },
  {
   "cell_type": "code",
   "execution_count": null,
   "id": "contrary-curtis",
   "metadata": {},
   "outputs": [],
   "source": []
  }
 ],
 "metadata": {
  "kernelspec": {
   "display_name": "Python 3",
   "language": "python",
   "name": "python3"
  },
  "language_info": {
   "codemirror_mode": {
    "name": "ipython",
    "version": 3
   },
   "file_extension": ".py",
   "mimetype": "text/x-python",
   "name": "python",
   "nbconvert_exporter": "python",
   "pygments_lexer": "ipython3",
   "version": "3.8.8"
  }
 },
 "nbformat": 4,
 "nbformat_minor": 5
}
