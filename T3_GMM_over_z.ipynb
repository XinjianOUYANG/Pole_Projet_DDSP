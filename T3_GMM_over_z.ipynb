{
 "cells": [
  {
   "cell_type": "markdown",
   "id": "awful-lawrence",
   "metadata": {},
   "source": [
    "# GMM over z"
   ]
  },
  {
   "cell_type": "markdown",
   "id": "danish-clerk",
   "metadata": {},
   "source": [
    "In this notebook, we **fit a generative model over latent variables “z”** provided by the pre-trained encoder network in Task2, in order to **define a probability distribution over “z”, and then to retrieve a complete generative mechanism and sample new sounds**.\n",
    "\n",
    "We use the package [sklearn.mixture](https://scikit-learn.org/stable/modules/generated/sklearn.mixture.GaussianMixture.html) to help us build a GMM generative model"
   ]
  },
  {
   "cell_type": "markdown",
   "id": "supported-passage",
   "metadata": {},
   "source": [
    "<p><b> GMM methods </b></p>\n",
    "\n",
    "<img src=\"pictures/GMM_methods.jpg\" alt=\"GMM methods in sklearn\" width=\"800\">"
   ]
  },
  {
   "cell_type": "code",
   "execution_count": 2,
   "id": "undefined-triangle",
   "metadata": {},
   "outputs": [
    {
     "name": "stdout",
     "output_type": "stream",
     "text": [
      "0.24.1\n"
     ]
    }
   ],
   "source": [
    "import numpy as np\n",
    "import sklearn\n",
    "from sklearn.mixture import GaussianMixture\n",
    "\n",
    "print(sklearn.__version__)"
   ]
  },
  {
   "cell_type": "markdown",
   "id": "convinced-genome",
   "metadata": {},
   "source": [
    "## Import the z dataset"
   ]
  },
  {
   "cell_type": "code",
   "execution_count": 3,
   "id": "sorted-hello",
   "metadata": {},
   "outputs": [
    {
     "name": "stdout",
     "output_type": "stream",
     "text": [
      "(15, 1, 1000, 16)\n"
     ]
    }
   ],
   "source": [
    "load_path = 'z_datasets/z_piano_ae.npy'\n",
    "X = np.load(load_path)\n",
    "print(np.shape(X))"
   ]
  },
  {
   "cell_type": "markdown",
   "id": "prepared-bennett",
   "metadata": {},
   "source": [
    "## Reshape the dataset as two-dimensional"
   ]
  },
  {
   "cell_type": "markdown",
   "id": "suited-substance",
   "metadata": {},
   "source": [
    "[encoder.py](https://github.com/magenta/ddsp/blob/master/ddsp/training/encoders.py)\n",
    "\n",
    "[decoder.py](https://github.com/magenta/ddsp/blob/master/ddsp/training/decoders.py)"
   ]
  },
  {
   "cell_type": "markdown",
   "id": "loaded-namibia",
   "metadata": {},
   "source": [
    "The original dataset is three-dimensional. We reduce its dimensionality to 2 in order to fit the GMM."
   ]
  },
  {
   "cell_type": "code",
   "execution_count": 4,
   "id": "sharing-burning",
   "metadata": {},
   "outputs": [
    {
     "name": "stdout",
     "output_type": "stream",
     "text": [
      "(15, 1000, 16)\n"
     ]
    }
   ],
   "source": [
    "# reduce dimensionality \n",
    "N = np.shape(X)[0]\n",
    "X_new = np.zeros(shape=(N,1000,16))\n",
    "\n",
    "for i in np.arange(N):\n",
    "    X_new[i] = X[i,0]\n",
    "    \n",
    "print(np.shape(X_new))\n",
    "#print(X_new)"
   ]
  },
  {
   "cell_type": "code",
   "execution_count": 5,
   "id": "raised-swedish",
   "metadata": {},
   "outputs": [
    {
     "name": "stdout",
     "output_type": "stream",
     "text": [
      "(15, 16000) \n",
      " [[-3.76355648e-02 -2.07985997e-01 -4.95041125e-02 ... -3.20183277e-01\n",
      "  -3.19353509e+00  6.22714162e-01]\n",
      " [-2.04983860e-01 -6.04301274e-01 -1.94746897e-01 ...  1.06279805e-01\n",
      "  -1.38618374e+00 -8.63304377e-01]\n",
      " [ 5.30616879e-01 -1.15855455e+00 -5.88672101e-01 ...  1.27670503e+00\n",
      "  -6.53476954e-01  9.68032598e-01]\n",
      " ...\n",
      " [ 3.92547309e-01 -6.43351257e-01 -3.43839377e-01 ...  5.10916412e-01\n",
      "   1.08951759e+00  7.07741022e-01]\n",
      " [ 5.95592201e-01 -1.71586186e-01 -5.21125138e-01 ... -2.34384090e-03\n",
      "   9.67827082e-01 -5.94782591e-01]\n",
      " [ 1.13820679e-01 -7.34352529e-01  3.99078488e-01 ... -1.18044078e+00\n",
      "   8.90615582e-01 -1.86830789e-01]]\n"
     ]
    }
   ],
   "source": [
    "X_re = np.reshape(X_new,(N,-1))\n",
    "print(np.shape(X_re),'\\n',X_re)"
   ]
  },
  {
   "cell_type": "code",
   "execution_count": 6,
   "id": "fitting-paint",
   "metadata": {},
   "outputs": [],
   "source": [
    "# D = np.reshape(X_re,(N,1000,16))\n",
    "# print(X == D)"
   ]
  },
  {
   "cell_type": "markdown",
   "id": "baking-metallic",
   "metadata": {},
   "source": [
    "## Fit the dataset z"
   ]
  },
  {
   "cell_type": "code",
   "execution_count": 8,
   "id": "variable-chick",
   "metadata": {},
   "outputs": [
    {
     "ename": "ValueError",
     "evalue": "Found array with dim 3. Estimator expected <= 2.",
     "output_type": "error",
     "traceback": [
      "\u001b[0;31m---------------------------------------------------------------------------\u001b[0m",
      "\u001b[0;31mValueError\u001b[0m                                Traceback (most recent call last)",
      "\u001b[0;32m<ipython-input-8-92ac63317f99>\u001b[0m in \u001b[0;36m<module>\u001b[0;34m\u001b[0m\n\u001b[1;32m      1\u001b[0m \u001b[0;31m# fit Z and build a GMM model\u001b[0m\u001b[0;34m\u001b[0m\u001b[0;34m\u001b[0m\u001b[0;34m\u001b[0m\u001b[0m\n\u001b[0;32m----> 2\u001b[0;31m \u001b[0mgm\u001b[0m \u001b[0;34m=\u001b[0m \u001b[0mGaussianMixture\u001b[0m\u001b[0;34m(\u001b[0m\u001b[0mn_components\u001b[0m\u001b[0;34m=\u001b[0m\u001b[0;36m2\u001b[0m\u001b[0;34m)\u001b[0m\u001b[0;34m.\u001b[0m\u001b[0mfit\u001b[0m\u001b[0;34m(\u001b[0m\u001b[0mX_new\u001b[0m\u001b[0;34m)\u001b[0m\u001b[0;34m\u001b[0m\u001b[0;34m\u001b[0m\u001b[0m\n\u001b[0m",
      "\u001b[0;32m~/opt/anaconda3/envs/DDSP/lib/python3.8/site-packages/sklearn/mixture/_base.py\u001b[0m in \u001b[0;36mfit\u001b[0;34m(self, X, y)\u001b[0m\n\u001b[1;32m    191\u001b[0m         \u001b[0mself\u001b[0m\u001b[0;34m\u001b[0m\u001b[0;34m\u001b[0m\u001b[0m\n\u001b[1;32m    192\u001b[0m         \"\"\"\n\u001b[0;32m--> 193\u001b[0;31m         \u001b[0mself\u001b[0m\u001b[0;34m.\u001b[0m\u001b[0mfit_predict\u001b[0m\u001b[0;34m(\u001b[0m\u001b[0mX\u001b[0m\u001b[0;34m,\u001b[0m \u001b[0my\u001b[0m\u001b[0;34m)\u001b[0m\u001b[0;34m\u001b[0m\u001b[0;34m\u001b[0m\u001b[0m\n\u001b[0m\u001b[1;32m    194\u001b[0m         \u001b[0;32mreturn\u001b[0m \u001b[0mself\u001b[0m\u001b[0;34m\u001b[0m\u001b[0;34m\u001b[0m\u001b[0m\n\u001b[1;32m    195\u001b[0m \u001b[0;34m\u001b[0m\u001b[0m\n",
      "\u001b[0;32m~/opt/anaconda3/envs/DDSP/lib/python3.8/site-packages/sklearn/mixture/_base.py\u001b[0m in \u001b[0;36mfit_predict\u001b[0;34m(self, X, y)\u001b[0m\n\u001b[1;32m    218\u001b[0m             \u001b[0mComponent\u001b[0m \u001b[0mlabels\u001b[0m\u001b[0;34m.\u001b[0m\u001b[0;34m\u001b[0m\u001b[0;34m\u001b[0m\u001b[0m\n\u001b[1;32m    219\u001b[0m         \"\"\"\n\u001b[0;32m--> 220\u001b[0;31m         \u001b[0mX\u001b[0m \u001b[0;34m=\u001b[0m \u001b[0m_check_X\u001b[0m\u001b[0;34m(\u001b[0m\u001b[0mX\u001b[0m\u001b[0;34m,\u001b[0m \u001b[0mself\u001b[0m\u001b[0;34m.\u001b[0m\u001b[0mn_components\u001b[0m\u001b[0;34m,\u001b[0m \u001b[0mensure_min_samples\u001b[0m\u001b[0;34m=\u001b[0m\u001b[0;36m2\u001b[0m\u001b[0;34m)\u001b[0m\u001b[0;34m\u001b[0m\u001b[0;34m\u001b[0m\u001b[0m\n\u001b[0m\u001b[1;32m    221\u001b[0m         \u001b[0mself\u001b[0m\u001b[0;34m.\u001b[0m\u001b[0m_check_n_features\u001b[0m\u001b[0;34m(\u001b[0m\u001b[0mX\u001b[0m\u001b[0;34m,\u001b[0m \u001b[0mreset\u001b[0m\u001b[0;34m=\u001b[0m\u001b[0;32mTrue\u001b[0m\u001b[0;34m)\u001b[0m\u001b[0;34m\u001b[0m\u001b[0;34m\u001b[0m\u001b[0m\n\u001b[1;32m    222\u001b[0m         \u001b[0mself\u001b[0m\u001b[0;34m.\u001b[0m\u001b[0m_check_initial_parameters\u001b[0m\u001b[0;34m(\u001b[0m\u001b[0mX\u001b[0m\u001b[0;34m)\u001b[0m\u001b[0;34m\u001b[0m\u001b[0;34m\u001b[0m\u001b[0m\n",
      "\u001b[0;32m~/opt/anaconda3/envs/DDSP/lib/python3.8/site-packages/sklearn/mixture/_base.py\u001b[0m in \u001b[0;36m_check_X\u001b[0;34m(X, n_components, n_features, ensure_min_samples)\u001b[0m\n\u001b[1;32m     50\u001b[0m     \u001b[0mX\u001b[0m \u001b[0;34m:\u001b[0m \u001b[0marray\u001b[0m\u001b[0;34m,\u001b[0m \u001b[0mshape\u001b[0m \u001b[0;34m(\u001b[0m\u001b[0mn_samples\u001b[0m\u001b[0;34m,\u001b[0m \u001b[0mn_features\u001b[0m\u001b[0;34m)\u001b[0m\u001b[0;34m\u001b[0m\u001b[0;34m\u001b[0m\u001b[0m\n\u001b[1;32m     51\u001b[0m     \"\"\"\n\u001b[0;32m---> 52\u001b[0;31m     X = check_array(X, dtype=[np.float64, np.float32],\n\u001b[0m\u001b[1;32m     53\u001b[0m                     ensure_min_samples=ensure_min_samples)\n\u001b[1;32m     54\u001b[0m     \u001b[0;32mif\u001b[0m \u001b[0mn_components\u001b[0m \u001b[0;32mis\u001b[0m \u001b[0;32mnot\u001b[0m \u001b[0;32mNone\u001b[0m \u001b[0;32mand\u001b[0m \u001b[0mX\u001b[0m\u001b[0;34m.\u001b[0m\u001b[0mshape\u001b[0m\u001b[0;34m[\u001b[0m\u001b[0;36m0\u001b[0m\u001b[0;34m]\u001b[0m \u001b[0;34m<\u001b[0m \u001b[0mn_components\u001b[0m\u001b[0;34m:\u001b[0m\u001b[0;34m\u001b[0m\u001b[0;34m\u001b[0m\u001b[0m\n",
      "\u001b[0;32m~/opt/anaconda3/envs/DDSP/lib/python3.8/site-packages/sklearn/utils/validation.py\u001b[0m in \u001b[0;36minner_f\u001b[0;34m(*args, **kwargs)\u001b[0m\n\u001b[1;32m     61\u001b[0m             \u001b[0mextra_args\u001b[0m \u001b[0;34m=\u001b[0m \u001b[0mlen\u001b[0m\u001b[0;34m(\u001b[0m\u001b[0margs\u001b[0m\u001b[0;34m)\u001b[0m \u001b[0;34m-\u001b[0m \u001b[0mlen\u001b[0m\u001b[0;34m(\u001b[0m\u001b[0mall_args\u001b[0m\u001b[0;34m)\u001b[0m\u001b[0;34m\u001b[0m\u001b[0;34m\u001b[0m\u001b[0m\n\u001b[1;32m     62\u001b[0m             \u001b[0;32mif\u001b[0m \u001b[0mextra_args\u001b[0m \u001b[0;34m<=\u001b[0m \u001b[0;36m0\u001b[0m\u001b[0;34m:\u001b[0m\u001b[0;34m\u001b[0m\u001b[0;34m\u001b[0m\u001b[0m\n\u001b[0;32m---> 63\u001b[0;31m                 \u001b[0;32mreturn\u001b[0m \u001b[0mf\u001b[0m\u001b[0;34m(\u001b[0m\u001b[0;34m*\u001b[0m\u001b[0margs\u001b[0m\u001b[0;34m,\u001b[0m \u001b[0;34m**\u001b[0m\u001b[0mkwargs\u001b[0m\u001b[0;34m)\u001b[0m\u001b[0;34m\u001b[0m\u001b[0;34m\u001b[0m\u001b[0m\n\u001b[0m\u001b[1;32m     64\u001b[0m \u001b[0;34m\u001b[0m\u001b[0m\n\u001b[1;32m     65\u001b[0m             \u001b[0;31m# extra_args > 0\u001b[0m\u001b[0;34m\u001b[0m\u001b[0;34m\u001b[0m\u001b[0;34m\u001b[0m\u001b[0m\n",
      "\u001b[0;32m~/opt/anaconda3/envs/DDSP/lib/python3.8/site-packages/sklearn/utils/validation.py\u001b[0m in \u001b[0;36mcheck_array\u001b[0;34m(array, accept_sparse, accept_large_sparse, dtype, order, copy, force_all_finite, ensure_2d, allow_nd, ensure_min_samples, ensure_min_features, estimator)\u001b[0m\n\u001b[1;32m    657\u001b[0m                     \"into decimal numbers with dtype='numeric'\") from e\n\u001b[1;32m    658\u001b[0m         \u001b[0;32mif\u001b[0m \u001b[0;32mnot\u001b[0m \u001b[0mallow_nd\u001b[0m \u001b[0;32mand\u001b[0m \u001b[0marray\u001b[0m\u001b[0;34m.\u001b[0m\u001b[0mndim\u001b[0m \u001b[0;34m>=\u001b[0m \u001b[0;36m3\u001b[0m\u001b[0;34m:\u001b[0m\u001b[0;34m\u001b[0m\u001b[0;34m\u001b[0m\u001b[0m\n\u001b[0;32m--> 659\u001b[0;31m             raise ValueError(\"Found array with dim %d. %s expected <= 2.\"\n\u001b[0m\u001b[1;32m    660\u001b[0m                              % (array.ndim, estimator_name))\n\u001b[1;32m    661\u001b[0m \u001b[0;34m\u001b[0m\u001b[0m\n",
      "\u001b[0;31mValueError\u001b[0m: Found array with dim 3. Estimator expected <= 2."
     ]
    }
   ],
   "source": [
    "# fit Z and build a GMM model\n",
    "gm = GaussianMixture(n_components=2).fit(X_new)"
   ]
  },
  {
   "cell_type": "code",
   "execution_count": null,
   "id": "polish-nicholas",
   "metadata": {},
   "outputs": [],
   "source": [
    "# attributes of the model\n",
    "\"\"\"\n",
    "weights_: array-like of shape (n_components,)\n",
    "The weights of each mixture components.\n",
    "\n",
    "means_: array-like of shape (n_components, n_features)\n",
    "The mean of each mixture component.\n",
    "\"\"\"\n",
    "\n",
    "means = gm.means_\n",
    "weights = gm.weights_\n",
    "\n",
    "print('means:',means,'\\n','weights of each component:',weights)"
   ]
  },
  {
   "cell_type": "code",
   "execution_count": null,
   "id": "characteristic-standing",
   "metadata": {},
   "outputs": [],
   "source": [
    "predictions = gm.sample(2)\n",
    "print(predictions)"
   ]
  },
  {
   "cell_type": "code",
   "execution_count": null,
   "id": "contrary-curtis",
   "metadata": {},
   "outputs": [],
   "source": []
  }
 ],
 "metadata": {
  "kernelspec": {
   "display_name": "Python 3",
   "language": "python",
   "name": "python3"
  },
  "language_info": {
   "codemirror_mode": {
    "name": "ipython",
    "version": 3
   },
   "file_extension": ".py",
   "mimetype": "text/x-python",
   "name": "python",
   "nbconvert_exporter": "python",
   "pygments_lexer": "ipython3",
   "version": "3.8.8"
  }
 },
 "nbformat": 4,
 "nbformat_minor": 5
}
