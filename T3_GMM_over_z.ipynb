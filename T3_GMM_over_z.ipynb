{
 "cells": [
  {
   "cell_type": "markdown",
   "id": "awful-lawrence",
   "metadata": {},
   "source": [
    "# GMM over z"
   ]
  },
  {
   "cell_type": "markdown",
   "id": "danish-clerk",
   "metadata": {},
   "source": [
    "In this notebook, we **fit a generative model over latent variables “z”** provided by the pre-trained encoder network in Task2, in order to **define a probability distribution over “z”, and then to retrieve a complete generative mechanism and sample new sounds**.\n",
    "\n",
    "We use the package [sklearn.mixture](https://scikit-learn.org/stable/modules/generated/sklearn.mixture.GaussianMixture.html) to help us build a GMM generative model"
   ]
  },
  {
   "cell_type": "markdown",
   "id": "supported-passage",
   "metadata": {},
   "source": [
    "<p><b> GMM methods </b></p>\n",
    "\n",
    "<img src=\"pictures/GMM_methods.jpg\" alt=\"GMM methods in sklearn\" width=\"800\">"
   ]
  },
  {
   "cell_type": "code",
   "execution_count": 1,
   "id": "undefined-triangle",
   "metadata": {},
   "outputs": [
    {
     "name": "stdout",
     "output_type": "stream",
     "text": [
      "0.24.1\n"
     ]
    }
   ],
   "source": [
    "import numpy as np\n",
    "import sklearn\n",
    "from sklearn.mixture import GaussianMixture\n",
    "\n",
    "print(sklearn.__version__)"
   ]
  },
  {
   "cell_type": "markdown",
   "id": "convinced-genome",
   "metadata": {},
   "source": [
    "## Import and reshape the z dataset"
   ]
  },
  {
   "cell_type": "markdown",
   "id": "suited-substance",
   "metadata": {},
   "source": [
    "[encoder.py](https://github.com/magenta/ddsp/blob/master/ddsp/training/encoders.py)\n",
    "\n",
    "[decoder.py](https://github.com/magenta/ddsp/blob/master/ddsp/training/decoders.py)\n",
    "\n",
    "[np.reshape](https://numpy.org/doc/stable/reference/generated/numpy.reshape.html)"
   ]
  },
  {
   "cell_type": "code",
   "execution_count": 2,
   "id": "sorted-hello",
   "metadata": {},
   "outputs": [
    {
     "name": "stdout",
     "output_type": "stream",
     "text": [
      "(15, 1, 1000, 16)\n"
     ]
    }
   ],
   "source": [
    "load_path = 'z_datasets/z_piano_ae.npy'\n",
    "X = np.load(load_path)\n",
    "print(np.shape(X))"
   ]
  },
  {
   "cell_type": "markdown",
   "id": "prepared-bennett",
   "metadata": {},
   "source": [
    "#### Reshape the dataset as two-dimensional\n",
    "\n",
    "The original dataset is three-dimensional. We reduce its dimensionality to 2 in order to fit the GMM."
   ]
  },
  {
   "cell_type": "code",
   "execution_count": 3,
   "id": "sharing-burning",
   "metadata": {},
   "outputs": [
    {
     "name": "stdout",
     "output_type": "stream",
     "text": [
      "(15, 1000, 16)\n",
      "\n",
      " (15000, 16) \n",
      " [[-0.03763556 -0.207986   -0.04950411 ...  0.08215524 -1.41192687\n",
      "   0.34535056]\n",
      " [-0.18909079 -0.44366729  0.20491609 ...  0.47856858 -2.01708555\n",
      "   0.51438296]\n",
      " [-0.84369022 -0.10921174  0.56649768 ...  0.09202205 -2.63889265\n",
      "   0.69160306]\n",
      " ...\n",
      " [ 0.3109242   2.2531755  -1.43669474 ... -1.54175401  0.57956547\n",
      "   1.36782932]\n",
      " [ 0.44703716  2.28848553 -1.74001348 ... -1.41930842  0.69076526\n",
      "   0.40841544]\n",
      " [ 0.53001457  2.42629957 -1.87911737 ... -1.18044078  0.89061558\n",
      "  -0.18683079]]\n"
     ]
    }
   ],
   "source": [
    "# reduce dimensionality \n",
    "N, T_step, Z_dim = np.shape(X)[0], np.shape(X)[2], np.shape(X)[3]\n",
    "X_new = np.zeros(shape=(N,T_step, Z_dim))\n",
    "\n",
    "for i in np.arange(N):\n",
    "    X_new[i] = X[i,0]\n",
    "    \n",
    "print(np.shape(X_new))\n",
    "#print(X_new)\n",
    "\n",
    "X_re = np.reshape(X_new,(N*T_step,16))\n",
    "print('\\n',np.shape(X_re),'\\n',X_re)"
   ]
  },
  {
   "cell_type": "code",
   "execution_count": 4,
   "id": "fitting-paint",
   "metadata": {},
   "outputs": [],
   "source": [
    "# D = np.reshape(X_re,(N,T_step, Z_dim))\n",
    "# print(X == D)"
   ]
  },
  {
   "cell_type": "markdown",
   "id": "baking-metallic",
   "metadata": {},
   "source": [
    "## Fit the dataset z"
   ]
  },
  {
   "cell_type": "code",
   "execution_count": 1,
   "id": "variable-chick",
   "metadata": {},
   "outputs": [
    {
     "ename": "NameError",
     "evalue": "name 'GaussianMixture' is not defined",
     "output_type": "error",
     "traceback": [
      "\u001b[0;31m---------------------------------------------------------------------------\u001b[0m",
      "\u001b[0;31mNameError\u001b[0m                                 Traceback (most recent call last)",
      "\u001b[0;32m<ipython-input-1-3d5dd0a6d18d>\u001b[0m in \u001b[0;36m<module>\u001b[0;34m\u001b[0m\n\u001b[1;32m      1\u001b[0m \u001b[0;31m# fit Z and build a GMM model\u001b[0m\u001b[0;34m\u001b[0m\u001b[0;34m\u001b[0m\u001b[0;34m\u001b[0m\u001b[0m\n\u001b[0;32m----> 2\u001b[0;31m \u001b[0mgm\u001b[0m \u001b[0;34m=\u001b[0m \u001b[0mGaussianMixture\u001b[0m\u001b[0;34m(\u001b[0m\u001b[0mn_components\u001b[0m\u001b[0;34m=\u001b[0m\u001b[0;36m10\u001b[0m\u001b[0;34m)\u001b[0m\u001b[0;34m.\u001b[0m\u001b[0mfit\u001b[0m\u001b[0;34m(\u001b[0m\u001b[0mX_re\u001b[0m\u001b[0;34m)\u001b[0m\u001b[0;34m\u001b[0m\u001b[0;34m\u001b[0m\u001b[0m\n\u001b[0m\u001b[1;32m      3\u001b[0m \u001b[0;31m# attributes of the model\u001b[0m\u001b[0;34m\u001b[0m\u001b[0;34m\u001b[0m\u001b[0;34m\u001b[0m\u001b[0m\n\u001b[1;32m      4\u001b[0m \"\"\"\n\u001b[1;32m      5\u001b[0m \u001b[0mweights_\u001b[0m\u001b[0;34m:\u001b[0m \u001b[0marray\u001b[0m\u001b[0;34m-\u001b[0m\u001b[0mlike\u001b[0m \u001b[0mof\u001b[0m \u001b[0mshape\u001b[0m \u001b[0;34m(\u001b[0m\u001b[0mn_components\u001b[0m\u001b[0;34m,\u001b[0m\u001b[0;34m)\u001b[0m\u001b[0;34m\u001b[0m\u001b[0;34m\u001b[0m\u001b[0m\n",
      "\u001b[0;31mNameError\u001b[0m: name 'GaussianMixture' is not defined"
     ]
    }
   ],
   "source": [
    "# fit Z and build a GMM model\n",
    "gm = GaussianMixture(n_components=10).fit(X_re)\n",
    "# attributes of the model\n",
    "\"\"\"\n",
    "weights_: array-like of shape (n_components,)\n",
    "The weights of each mixture components.\n",
    "\n",
    "means_: array-like of shape (n_components, n_features)\n",
    "The mean of each mixture component.\n",
    "\"\"\"\n",
    "\n",
    "means = gm.means_\n",
    "weights = gm.weights_\n",
    "\n",
    "print('means:',means,'\\n','weights of each component:',weights)"
   ]
  },
  {
   "cell_type": "code",
   "execution_count": 6,
   "id": "characteristic-standing",
   "metadata": {},
   "outputs": [
    {
     "name": "stdout",
     "output_type": "stream",
     "text": [
      "\n",
      " (1000, 16)\n",
      "\n",
      " [[ 1.65425197  0.2144019   0.69838326 ...  0.47106042  3.07468729\n",
      "  -0.768235  ]\n",
      " [-0.37649992  0.9215468  -0.17902697 ...  1.39767963 -0.63058838\n",
      "  -3.05452278]\n",
      " [ 1.55775607 -1.21248208  0.22929956 ...  0.72170846  2.6383541\n",
      "   1.00104728]\n",
      " ...\n",
      " [ 0.14248204  0.23532473 -0.63281458 ... -0.16896859 -1.37119433\n",
      "  -1.07860581]\n",
      " [ 1.27256873  1.68245631  1.12517296 ...  1.31472827 -1.71382554\n",
      "  -0.45131736]\n",
      " [-0.60773378 -0.74302684  1.5081874  ...  1.56176032  0.37210863\n",
      "   1.44835484]]\n"
     ]
    }
   ],
   "source": [
    "predictions = gm.sample(1000)\n",
    "\n",
    "print('\\n', np.shape(predictions[0]))\n",
    "print('\\n', predictions[0])"
   ]
  },
  {
   "cell_type": "code",
   "execution_count": null,
   "id": "contrary-curtis",
   "metadata": {},
   "outputs": [],
   "source": []
  }
 ],
 "metadata": {
  "kernelspec": {
   "display_name": "Python 3",
   "language": "python",
   "name": "python3"
  },
  "language_info": {
   "codemirror_mode": {
    "name": "ipython",
    "version": 3
   },
   "file_extension": ".py",
   "mimetype": "text/x-python",
   "name": "python",
   "nbconvert_exporter": "python",
   "pygments_lexer": "ipython3",
   "version": "3.8.8"
  }
 },
 "nbformat": 4,
 "nbformat_minor": 5
}
