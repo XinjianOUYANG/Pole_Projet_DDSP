{
 "cells": [
  {
   "cell_type": "markdown",
   "id": "awful-lawrence",
   "metadata": {},
   "source": [
    "# GMM over z"
   ]
  },
  {
   "cell_type": "markdown",
   "id": "danish-clerk",
   "metadata": {},
   "source": [
    "In this notebook, we **fit a generative model over latent variables “z”** provided by the pre-trained encoder network in Task2, in order to **define a probability distribution over “z”, and then to retrieve a complete generative mechanism and sample new sounds**.\n",
    "\n",
    "We use the package [sklearn.mixture](https://scikit-learn.org/stable/modules/generated/sklearn.mixture.GaussianMixture.html) to help us build a GMM generative model"
   ]
  },
  {
   "cell_type": "markdown",
   "id": "supported-passage",
   "metadata": {},
   "source": [
    "<p><b> GMM methods </b></p>\n",
    "\n",
    "<img src=\"pictures/GMM_methods.jpg\" alt=\"GMM methods in sklearn\" width=\"800\">"
   ]
  },
  {
   "cell_type": "code",
   "execution_count": null,
   "id": "undefined-triangle",
   "metadata": {},
   "outputs": [],
   "source": [
    "import numpy as np\n",
    "import sklearn\n",
    "from sklearn.mixture import GaussianMixture\n",
    "\n",
    "print(sklearn.__version__)"
   ]
  },
  {
   "cell_type": "markdown",
   "id": "convinced-genome",
   "metadata": {},
   "source": [
    "## Import and reshape the z dataset"
   ]
  },
  {
   "cell_type": "markdown",
   "id": "suited-substance",
   "metadata": {},
   "source": [
    "[encoder.py](https://github.com/magenta/ddsp/blob/master/ddsp/training/encoders.py)\n",
    "\n",
    "[decoder.py](https://github.com/magenta/ddsp/blob/master/ddsp/training/decoders.py)\n",
    "\n",
    "[np.reshape](https://numpy.org/doc/stable/reference/generated/numpy.reshape.html)"
   ]
  },
  {
   "cell_type": "code",
   "execution_count": null,
   "id": "sorted-hello",
   "metadata": {},
   "outputs": [],
   "source": [
    "load_path = 'z_datasets/z_piano_ae.npy'\n",
    "X = np.load(load_path)\n",
    "print(np.shape(X))"
   ]
  },
  {
   "cell_type": "markdown",
   "id": "prepared-bennett",
   "metadata": {},
   "source": [
    "#### Reshape the dataset as two-dimensional\n",
    "\n",
    "The original dataset is three-dimensional. We reduce its dimensionality to 2 in order to fit the GMM."
   ]
  },
  {
   "cell_type": "code",
   "execution_count": null,
   "id": "sharing-burning",
   "metadata": {},
   "outputs": [],
   "source": [
    "# reduce dimensionality \n",
    "N, T_step, Z_dim = np.shape(X)[0], np.shape(X)[2], np.shape(X)[3]\n",
    "X_new = np.zeros(shape=(N,T_step, Z_dim))\n",
    "\n",
    "for i in np.arange(N):\n",
    "    X_new[i] = X[i,0]\n",
    "    \n",
    "print(np.shape(X_new))\n",
    "#print(X_new)\n",
    "\n",
    "X_re = np.reshape(X_new,(N*T_step,16))\n",
    "print('\\n',np.shape(X_re),'\\n',X_re)"
   ]
  },
  {
   "cell_type": "code",
   "execution_count": null,
   "id": "fitting-paint",
   "metadata": {},
   "outputs": [],
   "source": [
    "# D = np.reshape(X_re,(N,T_step, Z_dim))\n",
    "# print(X == D)"
   ]
  },
  {
   "cell_type": "markdown",
   "id": "baking-metallic",
   "metadata": {},
   "source": [
    "## Fit the dataset z"
   ]
  },
  {
   "cell_type": "code",
   "execution_count": null,
   "id": "variable-chick",
   "metadata": {},
   "outputs": [],
   "source": [
    "# fit Z and build a GMM model\n",
    "gm = GaussianMixture(n_components=10).fit(X_re)\n",
    "# attributes of the model\n",
    "\"\"\"\n",
    "weights_: array-like of shape (n_components,)\n",
    "The weights of each mixture components.\n",
    "\n",
    "means_: array-like of shape (n_components, n_features)\n",
    "The mean of each mixture component.\n",
    "\"\"\"\n",
    "\n",
    "means = gm.means_\n",
    "weights = gm.weights_\n",
    "\n",
    "print('means:',means,'\\n','weights of each component:',weights)"
   ]
  },
  {
   "cell_type": "code",
   "execution_count": null,
   "id": "characteristic-standing",
   "metadata": {},
   "outputs": [],
   "source": [
    "predictions = gm.sample(1000)\n",
    "\n",
    "print('\\n', np.shape(predictions[0]))\n",
    "print('\\n', predictions[0])"
   ]
  },
  {
   "cell_type": "code",
   "execution_count": null,
   "id": "contrary-curtis",
   "metadata": {},
   "outputs": [],
   "source": []
  }
 ],
 "metadata": {
  "kernelspec": {
   "display_name": "Python 3",
   "language": "python",
   "name": "python3"
  },
  "language_info": {
   "codemirror_mode": {
    "name": "ipython",
    "version": 3
   },
   "file_extension": ".py",
   "mimetype": "text/x-python",
   "name": "python",
   "nbconvert_exporter": "python",
   "pygments_lexer": "ipython3",
   "version": "3.8.8"
  }
 },
 "nbformat": 4,
 "nbformat_minor": 5
}
